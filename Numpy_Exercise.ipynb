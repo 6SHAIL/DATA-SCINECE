{
 "cells": [
  {
   "cell_type": "code",
   "execution_count": 1,
   "id": "d4f2444b",
   "metadata": {},
   "outputs": [],
   "source": [
    "import numpy as np\n",
    "import pandas as pd\n",
    "import csv"
   ]
  },
  {
   "cell_type": "markdown",
   "id": "f3f99b59",
   "metadata": {},
   "source": [
    "## Rope Equal Parts"
   ]
  },
  {
   "cell_type": "code",
   "execution_count": 16,
   "id": "a9c7eb03",
   "metadata": {},
   "outputs": [
    {
     "name": "stdout",
     "output_type": "stream",
     "text": [
      "[0.    0.625 1.25  1.875 2.5   3.125 3.75  4.375 5.   ]\n",
      "[0.   0.62 1.25 1.88 2.5  3.12 3.75 4.38 5.  ]\n"
     ]
    }
   ],
   "source": [
    "rope_parts = np.linspace(0, 5, num = 9) #By default end-point is True.\n",
    "print(rope_parts)\n",
    "rope_part = np.round(rope_parts, decimals = 2)\n",
    "print(rope_part)\n",
    "# rope_part "
   ]
  },
  {
   "cell_type": "markdown",
   "id": "59ed3a08",
   "metadata": {},
   "source": [
    "## Print Elements"
   ]
  },
  {
   "cell_type": "code",
   "execution_count": 17,
   "id": "717c1f8f",
   "metadata": {},
   "outputs": [
    {
     "data": {
      "text/plain": [
       "array([ 1,  2,  3,  4,  5,  6,  7,  8,  9, 10, 11, 12, 13, 14, 15, 16, 17,\n",
       "       18, 19, 20])"
      ]
     },
     "execution_count": 17,
     "metadata": {},
     "output_type": "execute_result"
    }
   ],
   "source": [
    "array = np.arange(1,21, dtype = int)\n",
    "array"
   ]
  },
  {
   "cell_type": "code",
   "execution_count": 18,
   "id": "3511d381",
   "metadata": {},
   "outputs": [
    {
     "data": {
      "text/plain": [
       "array([[ 1,  2,  3,  4,  5],\n",
       "       [ 6,  7,  8,  9, 10],\n",
       "       [11, 12, 13, 14, 15],\n",
       "       [16, 17, 18, 19, 20]])"
      ]
     },
     "execution_count": 18,
     "metadata": {},
     "output_type": "execute_result"
    }
   ],
   "source": [
    "array_2d = np.array(array).reshape(4,5)\n",
    "array_2d"
   ]
  },
  {
   "cell_type": "code",
   "execution_count": 19,
   "id": "55d6d752",
   "metadata": {},
   "outputs": [
    {
     "name": "stdout",
     "output_type": "stream",
     "text": [
      "[11 12 13]\n",
      "[ 9 14 19]\n",
      "[[11 12 13 14 15]\n",
      " [16 17 18 19 20]]\n",
      "[[ 7  8]\n",
      " [12 13]]\n"
     ]
    }
   ],
   "source": [
    "print(array_2d[2,0:3])\n",
    "print(array_2d[1:4,3])\n",
    "print(array_2d[2:4, 0:6])\n",
    "print(array_2d[1:3, 1:3])"
   ]
  },
  {
   "cell_type": "markdown",
   "id": "dbf1958c",
   "metadata": {},
   "source": [
    "## Non Zero Elements"
   ]
  },
  {
   "cell_type": "code",
   "execution_count": 20,
   "id": "a720f438",
   "metadata": {},
   "outputs": [
    {
     "name": "stdout",
     "output_type": "stream",
     "text": [
      "[1 2 0 0 4 0]\n",
      "(array([0, 1, 4], dtype=int64),)\n"
     ]
    }
   ],
   "source": [
    "arr = [1,2,0,0,4,0]\n",
    "arry = np.array(arr)\n",
    "print(arry)\n",
    "ind = np.where( arry != 0)\n",
    "print(ind)"
   ]
  },
  {
   "cell_type": "markdown",
   "id": "0ea5ada1",
   "metadata": {},
   "source": [
    "## Multiple of 3"
   ]
  },
  {
   "cell_type": "code",
   "execution_count": 21,
   "id": "aa34057a",
   "metadata": {},
   "outputs": [
    {
     "name": "stdout",
     "output_type": "stream",
     "text": [
      "(array([2, 3, 5], dtype=int64),)\n"
     ]
    }
   ],
   "source": [
    "arry = np.array(arr)\n",
    "ind = np.where(arry%3 == 0 )\n",
    "print(ind)"
   ]
  },
  {
   "cell_type": "markdown",
   "id": "3c8385ce",
   "metadata": {},
   "source": [
    "## Odd elements\n"
   ]
  },
  {
   "cell_type": "code",
   "execution_count": 22,
   "id": "be146f99",
   "metadata": {},
   "outputs": [
    {
     "name": "stdout",
     "output_type": "stream",
     "text": [
      "[-1  2 -1  4 -1  6 -1  8 -1 10]\n"
     ]
    }
   ],
   "source": [
    "arr = [1, 2, 3, 4, 5, 6, 7, 8, 9, 10]\n",
    "arry = np.array(arr)\n",
    "arry[arry%2 != 0] = -1\n",
    "print(arry)"
   ]
  },
  {
   "cell_type": "markdown",
   "id": "4c02558a",
   "metadata": {},
   "source": [
    "# Replace Max"
   ]
  },
  {
   "cell_type": "code",
   "execution_count": 26,
   "id": "5ffd0703",
   "metadata": {},
   "outputs": [
    {
     "data": {
      "text/plain": [
       "array([ 0,  2, 13,  4, 15,  6, 27,  8, 19])"
      ]
     },
     "execution_count": 26,
     "metadata": {},
     "output_type": "execute_result"
    }
   ],
   "source": [
    "arr = [11, 2, 13, 4, 15, 6, 27, 8, 19]\n",
    "arry = np.array(arr)\n",
    "arry[np.where(arry.max())] = 0\n",
    "arry"
   ]
  },
  {
   "cell_type": "markdown",
   "id": "48fe4118",
   "metadata": {},
   "source": [
    "## Negate Elements"
   ]
  },
  {
   "cell_type": "code",
   "execution_count": 27,
   "id": "697b616d",
   "metadata": {},
   "outputs": [
    {
     "data": {
      "text/plain": [
       "array([3, 4, 5, 6, 7, 8])"
      ]
     },
     "execution_count": 27,
     "metadata": {},
     "output_type": "execute_result"
    }
   ],
   "source": [
    "arr = [1, 2, 3, 4, 5, 6, 7, 8, 9, 10]\n",
    "arry = np.array(arr)\n",
    "arry[ (arry > 2) & (arry < 9)]\n"
   ]
  },
  {
   "cell_type": "markdown",
   "id": "c6bbe170",
   "metadata": {},
   "source": [
    "## Height"
   ]
  },
  {
   "cell_type": "markdown",
   "id": "33ef7ef6",
   "metadata": {},
   "source": [
    "## Sort by Column"
   ]
  },
  {
   "cell_type": "code",
   "execution_count": 28,
   "id": "20d6dae8",
   "metadata": {},
   "outputs": [
    {
     "name": "stdout",
     "output_type": "stream",
     "text": [
      "[[ 6  5  4  3  2]\n",
      " [11 10  9  8  7]\n",
      " [16 15 14 13 12]\n",
      " [21 20 19 18 17]]\n"
     ]
    }
   ],
   "source": [
    "# numpy.sort(a, axis=-1(optional), kind=None(optional), order=None(optional))\n",
    "ary = [[21, 20, 19, 18, 17], \n",
    "      [16, 15, 14, 13, 12],\n",
    "      [11, 10, 9, 8, 7],\n",
    "      [6, 5, 4, 3, 2]]\n",
    "arr = np.array(ary)\n",
    "arry = arr[arr[:, 1].argsort()]\n",
    "print(arry)\n"
   ]
  },
  {
   "cell_type": "markdown",
   "id": "ebffd341",
   "metadata": {},
   "source": [
    "## Killed in USA"
   ]
  },
  {
   "cell_type": "code",
   "execution_count": 29,
   "id": "67c38015",
   "metadata": {},
   "outputs": [],
   "source": [
    "\n",
    "# terrorism_dataset = pd.read_csv(\"D:/[APPLIED] GATE/[CodingNinjas] All Courses/[Coding Ninjas] Machine Learning and Data Science/11. Lecture 11 - NumPy/33 - 34/terrorismData.csv\")\n"
   ]
  },
  {
   "cell_type": "code",
   "execution_count": 30,
   "id": "074cc33f",
   "metadata": {},
   "outputs": [],
   "source": [
    "# terrorism_dataset.head()"
   ]
  },
  {
   "cell_type": "code",
   "execution_count": 31,
   "id": "8bfad3dc",
   "metadata": {},
   "outputs": [],
   "source": [
    "# terrorism_dataset.shape"
   ]
  },
  {
   "cell_type": "code",
   "execution_count": 2,
   "id": "306b69db",
   "metadata": {},
   "outputs": [
    {
     "name": "stdout",
     "output_type": "stream",
     "text": [
      "['Dominican Republic' 'Mexico' 'Philippines' ... 'Philippines' 'India'\n",
      " 'Philippines']\n",
      "[1 0 1 ... 0 0 0]\n",
      "411868\n"
     ]
    }
   ],
   "source": [
    "file_obj = open(\"D:/[APPLIED] GATE/[CodingNinjas] All Courses/[Coding Ninjas] Machine Learning and Data Science/11. Lecture 11 - NumPy/33 - 34/terrorismData.csv\", encoding ='UTF-8')\n",
    "data = csv.DictReader(file_obj, skipinitialspace = True)\n",
    "\n",
    "killed = []\n",
    "country = []\n",
    "attack = []\n",
    "day = []\n",
    "month = []\n",
    "year = []\n",
    "for row in data:\n",
    "    killed.append(row[\"Killed\"])\n",
    "    country.append(row[\"Country\"])\n",
    "    attack.append(row[\"AttackType\"])\n",
    "    day.append(row[\"Day\"])\n",
    "    month.append(row[\"Month\"])\n",
    "    year.append(row[\"Year\"])\n",
    "\n",
    "np_killed = np.array(killed)\n",
    "np_killed[np_killed == '' ] = '0.0'\n",
    "\n",
    "\n",
    "np_killed = np.array(np_killed, dtype = float)\n",
    "np_country = np.array(country)\n",
    "print(np_country)\n",
    "\n",
    "bool_arr = np_country == 'United States'  \n",
    "np_killed[bool_arr]\n",
    "\n",
    "np_killed = np.array(np_killed, dtype = int)\n",
    "print(np_killed)\n",
    "print(np.sum(np_killed))\n"
   ]
  },
  {
   "cell_type": "markdown",
   "id": "cc373161",
   "metadata": {},
   "source": [
    "## Terrorism Day"
   ]
  },
  {
   "cell_type": "code",
   "execution_count": 3,
   "id": "273652a4",
   "metadata": {},
   "outputs": [
    {
     "data": {
      "text/plain": [
       "66330"
      ]
     },
     "execution_count": 3,
     "metadata": {},
     "output_type": "execute_result"
    }
   ],
   "source": [
    "np_attack = np.array(attack)\n",
    "np_day = np.array(day, dtype = float)\n",
    "np_day = np.array(np_day, dtype = int)\n",
    "\n",
    "bool_day = np_day[(np_day > 9) & (np_day < 21)]\n",
    "\n",
    "attack_count =np_attack[bool_day]\n",
    "attack_count.size\n"
   ]
  },
  {
   "cell_type": "markdown",
   "id": "b7beec6a",
   "metadata": {},
   "source": [
    "## Terrorism Date"
   ]
  },
  {
   "cell_type": "code",
   "execution_count": 45,
   "id": "3988a49e",
   "metadata": {},
   "outputs": [],
   "source": [
    "np_day = np.array(day)\n",
    "\n",
    "np_month = np.array(month)\n",
    "\n",
    "np_year = np.array(year)\n",
    "\n",
    "\n",
    "\n"
   ]
  },
  {
   "cell_type": "code",
   "execution_count": 5,
   "id": "ad29e1f3",
   "metadata": {},
   "outputs": [
    {
     "name": "stdout",
     "output_type": "stream",
     "text": [
      "3621\n"
     ]
    }
   ],
   "source": [
    "np_year = np.array(year)\n",
    "bool_year = np_year == '2010'\n",
    "year2010 = np_year[bool_year]\n",
    "\n",
    "month_all = np_month[bool_year]\n",
    "bool_month = month_all == '1'\n",
    "month_january = month_all[bool_month]\n",
    "\n",
    "\n",
    "day_all = np_day[bool_year]\n",
    "day_jan = day_all[(day_all > '1') & (day_all < '31') ]\n",
    "print(day_jan.size)\n",
    "\n",
    "\n"
   ]
  },
  {
   "cell_type": "markdown",
   "id": "9957b8bf",
   "metadata": {},
   "source": [
    "## Terror Casualty Attack"
   ]
  },
  {
   "cell_type": "code",
   "execution_count": 6,
   "id": "b79b9f1d",
   "metadata": {},
   "outputs": [
    {
     "name": "stdout",
     "output_type": "stream",
     "text": [
      "114 Kalmunai Liberation Tigers of Tamil Eelam (LTTE)\n"
     ]
    }
   ],
   "source": [
    "file_obj = open(\"D:/[APPLIED] GATE/[CodingNinjas] All Courses/[Coding Ninjas] Machine Learning and Data Science/11. Lecture 11 - NumPy/33 - 34/terrorismData.csv\", encoding ='UTF-8')\n",
    "data = csv.DictReader(file_obj, skipinitialspace = True)\n",
    "\n",
    "\n",
    "country = []\n",
    "city = []\n",
    "np_year \n",
    "np_month\n",
    "np_attack\n",
    "killed = []\n",
    "wounded = []\n",
    "terrorist_grp = []\n",
    "state = []\n",
    "\n",
    "for row in data:\n",
    "    country.append(row[\"Country\"])\n",
    "    city.append(row[\"City\"])\n",
    "    killed.append(row[\"Killed\"])\n",
    "    wounded.append(row[\"Wounded\"])\n",
    "    terrorist_grp.append(row[\"Group\"])\n",
    "    state.append(row[\"State\"])\n",
    "\n",
    "\n",
    "np_country = np.array(country)\n",
    "np_city = np.array(city)\n",
    "np_killed = np.array(killed)\n",
    "np_wounded = np.array(wounded)\n",
    "np_terrorist_grp = np.array(terrorist_grp)\n",
    "np_state = np.array(state)\n",
    "\n",
    "np_killed[np_killed == ''] = '0.0'\n",
    "kild = np.array(np_killed, dtype = float)\n",
    "\n",
    "np_wounded[np_wounded == ''] = '0.0'\n",
    "wound = np.array(np_wounded, dtype = float)\n",
    "\n",
    "\n",
    "\n",
    "bool_year = np_year == '1990'\n",
    "year1990 = np_year[bool_year]\n",
    "\n",
    "\n",
    "\n",
    "all_months = np_month[bool_year]\n",
    "\n",
    "may_july = (all_months > '4' ) & (all_months < '8' )\n",
    "\n",
    "\n",
    "attacks_all_months = np_attack[bool_year]\n",
    "attacks_3months = attacks_all_months[may_july]\n",
    "\n",
    "\n",
    "\n",
    "kild = kild[bool_year]\n",
    "kild_3months = kild[may_july]\n",
    "\n",
    "\n",
    "\n",
    "wound = wound[bool_year]\n",
    "wound_3months = wound[may_july]\n",
    "kild_wound = kild_3months + wound_3months\n",
    "\n",
    "\n",
    "terrorist_grp = np_terrorist_grp[bool_year]\n",
    "grp_3months = terrorist_grp[may_july]\n",
    "\n",
    "\n",
    "all_city = np_city[bool_year]\n",
    "city_casualty = all_city[may_july]\n",
    "\n",
    "\n",
    "max_casualty = kild_wound.max()\n",
    "casualty_index = kild_wound.argmax() \n",
    "\n",
    "city_max_casualty = city_casualty[casualty_index]\n",
    "\n",
    "grp_max_casualty = grp_3months[casualty_index]\n",
    "\n",
    "\n",
    "\n",
    "\n",
    "print(str(int(max_casualty)) + ' ' + city_max_casualty + ' ' + grp_max_casualty)\n",
    "\n",
    "\n",
    "\n",
    "\n",
    "\n",
    "\n"
   ]
  },
  {
   "cell_type": "markdown",
   "id": "b9e4d1cf",
   "metadata": {},
   "source": [
    "## Terror Casualty Red"
   ]
  },
  {
   "cell_type": "code",
   "execution_count": 7,
   "id": "6312f27c",
   "metadata": {},
   "outputs": [
    {
     "name": "stdout",
     "output_type": "stream",
     "text": [
      "2545\n"
     ]
    }
   ],
   "source": [
    "np_country \n",
    "bool_country = np_country == 'India'\n",
    "np_india = np_country[bool_country]\n",
    "\n",
    "np_all_city = np_city[bool_country]\n",
    "\n",
    "np_all_state = np_state[bool_country]\n",
    "\n",
    "\n",
    "\n",
    "\n",
    "np_killed = np.array(killed)\n",
    "np_killed[np_killed == ''] ='0.0'\n",
    "\n",
    "india_killed = np_killed[bool_country]\n",
    "india_killed = np.array(india_killed, dtype = float)\n",
    "\n",
    "np_wounded = np.array(wounded)\n",
    "np_wounded[np_wounded == ''] = '0.0'\n",
    "\n",
    "india_wounded = np_wounded[bool_country]\n",
    "india_wounded = np.array(india_wounded, dtype = float)\n",
    "\n",
    "bool_jharkhand = np_all_state == \"Jharkhand\"\n",
    "np_Jharkhand = np_all_state[bool_jharkhand]\n",
    "\n",
    "\n",
    "killed_jharkhand = india_killed[bool_jharkhand]\n",
    "wounded_jharkhand = india_wounded[bool_jharkhand]\n",
    "\n",
    "\n",
    "casualty_jharkhand = killed_jharkhand + wounded_jharkhand\n",
    "jhr = casualty_jharkhand.size\n",
    "\n",
    "\n",
    "\n",
    "bool_odisha = np_all_state == \"Odisha\"\n",
    "np_Odisha = np_all_state[np_all_state == \"Odisha\"]\n",
    "\n",
    "killed_odisha = india_killed[bool_odisha]\n",
    "wounded_odisha = india_wounded[bool_odisha]\n",
    "\n",
    "\n",
    "casualty_odisha = killed_odisha + wounded_odisha\n",
    "odi = casualty_odisha.size\n",
    "\n",
    "bool_andhra = np_all_state == \"Andhra Pradesh\"\n",
    "np_Andhra = np_all_state[np_all_state == \"Andra Pradesh \"]\n",
    "\n",
    "killed_andhra = india_killed[bool_andhra]\n",
    "wounded_andhra = india_wounded[bool_andhra]\n",
    "\n",
    "casualty_andhra = killed_andhra + wounded_andhra\n",
    "andhra = casualty_andhra.size\n",
    "\n",
    "bool_chhattisgarh = np_all_state == \"Chhattisgarh\"\n",
    "np_Chhattisgarh = np_all_state[np_all_state == \"Chhattisgarh\"]\n",
    "\n",
    "killed_chhattisgarh = india_killed[bool_chhattisgarh]\n",
    "wounded_chhattisgarh = india_wounded[bool_chhattisgarh]\n",
    "\n",
    "casualty_chhattisgarh = killed_chhattisgarh + wounded_chhattisgarh\n",
    "ch = casualty_chhattisgarh.size\n",
    "\n",
    "\n",
    "count = jhr+odi+andhra+ch\n",
    "print(count)\n",
    "\n",
    "\n"
   ]
  },
  {
   "cell_type": "markdown",
   "id": "18c61b22",
   "metadata": {},
   "source": [
    "## Terror City Casualty\n"
   ]
  },
  {
   "cell_type": "code",
   "execution_count": 39,
   "id": "c6a38c6b",
   "metadata": {},
   "outputs": [
    {
     "name": "stdout",
     "output_type": "stream",
     "text": [
      "Dhubri 1005\n",
      "Bastar 272\n",
      "Guwahati district 255\n",
      "Satnala 232\n",
      "Bundu 210\n"
     ]
    }
   ],
   "source": [
    "np_india\n",
    "np_all_city\n",
    "all_city = np_all_city != 'Unknown'\n",
    "\n",
    "all_cities = np_all_city[all_city]\n",
    "\n",
    "\n",
    "india_killed\n",
    "india_wounded\n",
    "casualty = india_killed + india_wounded\n",
    "\n",
    "casualty1 = casualty.max()\n",
    "city1 = all_cities[casualty.argmax()]\n",
    "casualty[casualty.argmax()] = 0.0\n",
    "\n",
    "print((city1) + ' ' + str(int(casualty1)))\n",
    "\n",
    "casualty2 = casualty.max()\n",
    "city2 = all_cities[casualty.argmax()]\n",
    "casualty[casualty.argmax()] = 0.0\n",
    "\n",
    "print(city2 + ' ' + str(int(casualty2)))\n",
    "\n",
    "casualty3 = casualty.max()\n",
    "city3 = all_cities[casualty.argmax()]\n",
    "casualty[casualty.argmax()] = 0.0\n",
    "\n",
    "print(city3 + ' ' + str(int(casualty3)))\n",
    "\n",
    "casualty4 = casualty.max()\n",
    "city4 = all_cities[casualty.argmax()]\n",
    "casualty[casualty.argmax()] = 0.0\n",
    "\n",
    "print(city4 + ' ' + str(int(casualty4)))\n",
    "\n",
    "casualty5 = casualty.max()\n",
    "city5 = all_cities[casualty.argmax()]\n",
    "\n",
    "print(city5 + ' ' + str(int(casualty5))) ## print in the form of string\n",
    "# print(city5, int(casualty5)) ## print in the str and int form\n",
    "\n"
   ]
  },
  {
   "cell_type": "markdown",
   "id": "0049fd42",
   "metadata": {},
   "source": [
    "## Terrorism FrequentDay"
   ]
  },
  {
   "cell_type": "code",
   "execution_count": 58,
   "id": "0839a98e",
   "metadata": {},
   "outputs": [
    {
     "name": "stdout",
     "output_type": "stream",
     "text": [
      "['0' '1' '10' '11' '12' '13' '14' '15' '16' '17' '18' '19' '2' '20' '21'\n",
      " '22' '23' '24' '25' '26' '27' '28' '29' '3' '30' '31' '4' '5' '6' '7' '8'\n",
      " '9']\n",
      "6500\n",
      "15\n"
     ]
    },
    {
     "data": {
      "text/plain": [
       "6500"
      ]
     },
     "execution_count": 58,
     "metadata": {},
     "output_type": "execute_result"
    }
   ],
   "source": [
    "np_attack\n",
    "np_day\n",
    "value, counts = np.unique(np_day, return_counts = True )\n",
    "print(value)\n",
    "print(counts.max())\n",
    "index = counts.argmax()\n",
    "print(value[index])\n",
    "\n",
    "frequent_day = np_day == '15'\n",
    "most_frequent_day = np_day[frequent_day]\n",
    "\n",
    "day_of_attack = np_attack[frequent_day]\n",
    "day_of_attack.size\n",
    "\n",
    "print()\n",
    "\n"
   ]
  },
  {
   "cell_type": "code",
   "execution_count": null,
   "id": "2b5565d9",
   "metadata": {},
   "outputs": [],
   "source": []
  },
  {
   "cell_type": "code",
   "execution_count": null,
   "id": "f75810ee",
   "metadata": {},
   "outputs": [],
   "source": []
  },
  {
   "cell_type": "code",
   "execution_count": null,
   "id": "a55e61ba",
   "metadata": {},
   "outputs": [],
   "source": []
  },
  {
   "cell_type": "code",
   "execution_count": null,
   "id": "730f7849",
   "metadata": {},
   "outputs": [],
   "source": []
  }
 ],
 "metadata": {
  "kernelspec": {
   "display_name": "Python 3 (ipykernel)",
   "language": "python",
   "name": "python3"
  },
  "language_info": {
   "codemirror_mode": {
    "name": "ipython",
    "version": 3
   },
   "file_extension": ".py",
   "mimetype": "text/x-python",
   "name": "python",
   "nbconvert_exporter": "python",
   "pygments_lexer": "ipython3",
   "version": "3.11.4"
  }
 },
 "nbformat": 4,
 "nbformat_minor": 5
}
